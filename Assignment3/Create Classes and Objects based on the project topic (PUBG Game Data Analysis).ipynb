{
 "cells": [
  {
   "cell_type": "markdown",
   "id": "db110b54",
   "metadata": {},
   "source": [
    "# Assignment : 3 Create Classes and Objects based on the project topic (PUBG Game Data Analysis) "
   ]
  },
  {
   "cell_type": "code",
   "execution_count": 1,
   "id": "2c20997f",
   "metadata": {},
   "outputs": [],
   "source": [
    "class Player():\n",
    "    \n",
    "    p_id = ''\n",
    "    dob = ''\n",
    "    age = ''\n",
    "    healing = ''\n",
    "    kills = ''\n",
    "    match_id = ''\n",
    "    match_type = ''\n",
    "    \n",
    "    def getd(self,p_id,dob,age,healing,kills,match_id,match_type):\n",
    "        self.p_id = p_id\n",
    "        self.dob = dob\n",
    "        self.age = age\n",
    "        self.healing = healing\n",
    "        self.kills = kills\n",
    "        self.match_id = match_id\n",
    "        self.match_type = match_type\n",
    "    \n",
    "    def setd(self):\n",
    "        print('Player Id is:',self.p_id)\n",
    "        print('Player Date of Birth is:',self.dob)\n",
    "        print('Player age is:',self.age)\n",
    "        print('Healing  is:',self.healing)\n",
    "        print('Player Kills is:',self.kills)\n",
    "        print('Player Match Id is:',self.match_id)\n",
    "        print('Player Match Type is:',self.match_type)\n",
    "        "
   ]
  },
  {
   "cell_type": "code",
   "execution_count": 2,
   "id": "0289c53d",
   "metadata": {},
   "outputs": [],
   "source": [
    "class Matches():\n",
    "    match_id = ''\n",
    "    match_type = ''\n",
    "    match_duration = ''\n",
    "    \n",
    "    def get_match(self,match_id,match_type,match_duration):\n",
    "        self.match_id = match_id\n",
    "        self.match_type = match_type\n",
    "        self.match_duration = match_duration\n",
    "        \n",
    "    def set_match(self):\n",
    "        print('Player Match Id is:',self.match_id)\n",
    "        print('Player Match Type is:',self.match_type)\n",
    "        print('Player Match Duration is:',self.match_duration)\n",
    "        "
   ]
  },
  {
   "cell_type": "code",
   "execution_count": 3,
   "id": "fafabad0",
   "metadata": {},
   "outputs": [
    {
     "name": "stdout",
     "output_type": "stream",
     "text": [
      "Player Id is: 2f262dd9795e60\n",
      "Player Date of Birth is: 01/10/2000\n",
      "Player age is: 20\n",
      "Healing  is: 2\n",
      "Player Kills is: 3\n",
      "Player Match Id is: d5db3a49eb2955\n",
      "Player Match Type is: squad-fpp\n"
     ]
    }
   ],
   "source": [
    "play = Player()\n",
    "play.getd('2f262dd9795e60','01/10/2000','20','2','3','d5db3a49eb2955','squad-fpp')\n",
    "play.setd()"
   ]
  },
  {
   "cell_type": "code",
   "execution_count": 4,
   "id": "77630df5",
   "metadata": {},
   "outputs": [
    {
     "name": "stdout",
     "output_type": "stream",
     "text": [
      "Player Match Id is: d5db3a49eb2955\n",
      "Player Match Type is: squad-fpp\n",
      "Player Match Duration is: 1:37:6\n"
     ]
    }
   ],
   "source": [
    "match = Matches()\n",
    "match.get_match('d5db3a49eb2955','squad-fpp','1:37:6')\n",
    "match.set_match()"
   ]
  },
  {
   "cell_type": "code",
   "execution_count": null,
   "id": "061f87ce",
   "metadata": {},
   "outputs": [],
   "source": []
  }
 ],
 "metadata": {
  "kernelspec": {
   "display_name": "Python 3",
   "language": "python",
   "name": "python3"
  },
  "language_info": {
   "codemirror_mode": {
    "name": "ipython",
    "version": 3
   },
   "file_extension": ".py",
   "mimetype": "text/x-python",
   "name": "python",
   "nbconvert_exporter": "python",
   "pygments_lexer": "ipython3",
   "version": "3.8.8"
  }
 },
 "nbformat": 4,
 "nbformat_minor": 5
}

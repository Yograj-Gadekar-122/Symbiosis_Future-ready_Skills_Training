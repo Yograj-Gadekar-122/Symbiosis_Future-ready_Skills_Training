{
  "nbformat": 4,
  "nbformat_minor": 0,
  "metadata": {
    "colab": {
      "name": "ML_on_pyspark.ipynb",
      "provenance": [],
      "collapsed_sections": []
    },
    "kernelspec": {
      "name": "python3",
      "display_name": "Python 3"
    },
    "language_info": {
      "name": "python"
    }
  },
  "cells": [
    {
      "cell_type": "code",
      "execution_count": 42,
      "metadata": {
        "colab": {
          "base_uri": "https://localhost:8080/"
        },
        "id": "Zmn6QqrYM_7o",
        "outputId": "d74503d8-aada-4392-ade7-f2dc3e475136"
      },
      "outputs": [
        {
          "output_type": "stream",
          "name": "stdout",
          "text": [
            "Requirement already satisfied: pyspark in /usr/local/lib/python3.7/dist-packages (3.2.0)\n",
            "Requirement already satisfied: py4j==0.10.9.2 in /usr/local/lib/python3.7/dist-packages (from pyspark) (0.10.9.2)\n"
          ]
        }
      ],
      "source": [
        "!pip install pyspark"
      ]
    },
    {
      "cell_type": "code",
      "source": [
        "# Import SparkSession\n",
        "from pyspark.sql import SparkSession\n",
        "\n",
        "# create a object SparkSession\n",
        "spark = SparkSession.builder.appName('Kmeans_App').getOrCreate()"
      ],
      "metadata": {
        "id": "xrL0dFW7NHP5"
      },
      "execution_count": 43,
      "outputs": []
    },
    {
      "cell_type": "code",
      "metadata": {
        "id": "eRwrxxe0QkoR"
      },
      "source": [
        "#Load Data \n",
        "data1 = spark.read.option('header','True').csv('/content/pubg.csv')\n",
        "\n",
        "data2 = spark.read.option('header','True').csv('/content/Responses.csv')"
      ],
      "execution_count": 44,
      "outputs": []
    },
    {
      "cell_type": "code",
      "source": [
        "a = SparkSession.builder"
      ],
      "metadata": {
        "id": "n2l4lk0ug1Vt"
      },
      "execution_count": 45,
      "outputs": []
    },
    {
      "cell_type": "code",
      "source": [
        "type(a)"
      ],
      "metadata": {
        "colab": {
          "base_uri": "https://localhost:8080/"
        },
        "id": "CgpanPBVj9LJ",
        "outputId": "6d253b54-2474-44fd-d238-a7be14ffdba7"
      },
      "execution_count": 46,
      "outputs": [
        {
          "output_type": "execute_result",
          "data": {
            "text/plain": [
              "pyspark.sql.session.SparkSession.Builder"
            ]
          },
          "metadata": {},
          "execution_count": 46
        }
      ]
    },
    {
      "cell_type": "code",
      "source": [
        "data1.show()"
      ],
      "metadata": {
        "colab": {
          "base_uri": "https://localhost:8080/"
        },
        "id": "965MUEbzj_NP",
        "outputId": "965a6cae-ffde-49b5-cc0e-641e23ede5a0"
      },
      "execution_count": 47,
      "outputs": [
        {
          "output_type": "stream",
          "name": "stdout",
          "text": [
            "+--------------+--------------+--------------+-------+------+-----------+-----+-------------+-----+---------+----------+-----+-----------+-----------+-------------+---------+--------+---------+----------+-------+------------+---------+------------+---------+---------------+------------+---------------+---------+------------+\n",
            "|            Id|       groupId|       matchId|assists|boosts|damageDealt|DBNOs|headshotKills|heals|killPlace|killPoints|kills|killStreaks|longestKill|matchDuration|matchType|maxPlace|numGroups|rankPoints|revives|rideDistance|roadKills|swimDistance|teamKills|vehicleDestroys|walkDistance|weaponsAcquired|winPoints|winPlacePerc|\n",
            "+--------------+--------------+--------------+-------+------+-----------+-----+-------------+-----+---------+----------+-----+-----------+-----------+-------------+---------+--------+---------+----------+-------+------------+---------+------------+---------+---------------+------------+---------------+---------+------------+\n",
            "|2f262dd9795e60|78437bcd91d40e|d5db3a49eb2955|      0|     0|          0|    0|            0|    0|       92|      1126|    0|          0|          0|         1376|squad-fpp|      29|       28|        -1|      0|           0|        0|           0|        0|              0|           0|              0|     1470|           0|\n",
            "|a32847cf5bf34b|85b7ce5a12e10b|65223f05c7fdb4|      0|     0|      163.2|    1|            1|    0|       42|      1309|    1|          1|      6.589|         1370|squad-fpp|      28|       28|        -1|      0|           0|        0|           0|        0|              0|       132.7|              2|     1531|      0.2222|\n",
            "|1b1900a9990396|edf80d6523380a|1cadec4534f30a|      0|     3|      278.7|    2|            1|    8|       16|         0|    2|          1|      23.07|         1381|squad-fpp|      29|       27|      1479|      3|           0|        0|           0|        0|              0|        3591|             10|        0|      0.8571|\n",
            "|f589dd03b60bf2|804ab5e5585558|c4a5676dc91604|      0|     0|      191.9|    1|            0|    0|       31|         0|    1|          1|      24.89|         1708|    squad|      27|       25|      1500|      0|           0|        0|           0|        0|              0|       332.7|              3|        0|      0.3462|\n",
            "|c23c4cc5b78b35|b3e2cd169ed920|cd595700a01bfa|      0|     0|        100|    1|            0|    0|       87|      1332|    0|          0|          0|         1807|squad-fpp|      30|       30|        -1|      0|           0|        0|           0|        0|              0|       252.7|              3|     1557|       0.069|\n",
            "|fd034582dd4d2e|9b8930aeee086a|6f6e52b15ddf21|      0|     1|        200|    2|            0|    1|       73|         0|    0|          0|          0|         1362|squad-fpp|      26|       24|      1769|      0|           0|        0|           0|        0|              0|       221.8|              2|        0|         0.2|\n",
            "|c60b5633f4dcc8|7c0f817f6627c7|3232c1e0fec04b|      0|     3|      638.2|    4|            1|    1|        1|         0|    8|          2|      158.7|         1369|  duo-fpp|      46|       46|      1747|      1|           0|        0|           0|        0|              0|        3350|              5|        0|      0.9333|\n",
            "|f0ba8246b6980f|7318b5204462cb|112e9711f86001|      0|     0|      27.94|    0|            0|    0|       66|         0|    0|          0|          0|         1349|  duo-fpp|      48|       46|      1502|      0|           0|        0|           0|        0|              0|       417.6|              4|        0|      0.3617|\n",
            "|79c5d5eda1c72e|a85b81198dfc06|ef5fc25e28ffb1|      1|     4|      275.8|    3|            0|    4|       10|         0|    4|          2|      77.42|         1387|    squad|      28|       27|      1500|      1|        1415|        0|           0|        0|              0|        1959|              4|        0|      0.6296|\n",
            "|94834a28e52abd|bc513cde35fa54|f36a754a9b88f7|      1|     1|      530.4|    4|            0|    8|        5|      1502|    5|          2|      33.67|         1377|squad-fpp|      27|       25|        -1|      1|       439.5|        0|           0|        0|              0|        2794|              5|     1527|      0.8462|\n",
            "|f051dcc9b0b3ce|d203c0e3d8c321|89a6a8738190b4|      0|     0|      20.59|    0|            0|    0|       48|         0|    0|          0|          0|         1358|squad-fpp|      29|       29|      1500|      0|           0|        0|           0|        0|              0|       284.1|              3|        0|      0.7857|\n",
            "|f02c2f34accf08|22ed911205c815|559dac9580b92a|      1|     0|      62.72|    0|            0|    2|       54|         0|    0|          0|          0|         1829|squad-fpp|      29|       29|      1485|      0|        4108|        0|           0|        0|              0|        1858|              3|        0|      0.7143|\n",
            "|6701c06774d409|cdb79f944d585b|9f3decb5ffba4e|      0|     0|          0|    0|            0|    0|       87|      1299|    0|          0|          0|         1385|squad-fpp|      30|       30|        -1|      0|           0|        0|           0|        0|              0|       53.12|              0|     1502|      0.1034|\n",
            "|4e4aef4aeee5f5|a9dfa1c736c889|ac92da38bb19ad|      0|     2|      13.83|    0|            0|    2|       27|         0|    1|          1|      42.24|         1778|squad-fpp|      29|       29|      1496|      0|        3411|        0|           0|        0|              0|        1232|              7|        0|      0.4643|\n",
            "|d26b4b75c5229d|130ea20c924e8c|14fb1c1b26e9a4|      0|     0|       25.8|    0|            0|    1|       58|      1267|    0|          0|          0|         1863| solo-fpp|      98|       94|        -1|      0|       944.2|        0|           0|        0|              0|        2022|              3|     1554|      0.5876|\n",
            "|c5473a410326a8|8a25860cd71a23|88cffe1ae97aff|      1|     1|        594|    2|            1|    7|       16|         0|    2|          1|      16.79|         1336|squad-fpp|      29|       27|      2722|      2|           0|        0|           0|        0|              0|       997.9|              6|        0|      0.6429|\n",
            "|321fe9f3c71131|cb3471586d99b4|1cf664f7c75122|      0|     0|      50.31|    0|            0|    0|       82|         0|    0|          0|          0|         1898|      duo|      50|       43|      1480|      0|           0|        0|           0|        0|              0|       61.44|              3|        0|      0.0408|\n",
            "|f8933f3ee2e431|114b20e9d7504b|d5fcb7a3981d33|      0|     0|          0|    0|            0|    0|       80|         0|    0|          0|          0|         1793|squad-fpp|      27|       27|      1202|      0|           0|        0|           0|        0|              0|       142.7|              3|        0|      0.1154|\n",
            "|c70c7337cd46b4|73870d831717aa|e6602141e44281|      0|     0|       25.8|    0|            0|    0|       74|      1183|    0|          0|          0|         1351|  duo-fpp|      48|       48|        -1|      0|           0|        0|           0|        0|              0|       283.6|              2|     1523|      0.2979|\n",
            "|d6c231133b5d57|928733f3037f92|b4baee11351ae6|      0|     0|      30.96|    0|            0|    1|       69|      1130|    0|          0|          0|         1421| solo-fpp|      97|       91|        -1|      0|           0|        0|           0|        0|              0|       332.1|              5|     1451|      0.3854|\n",
            "+--------------+--------------+--------------+-------+------+-----------+-----+-------------+-----+---------+----------+-----+-----------+-----------+-------------+---------+--------+---------+----------+-------+------------+---------+------------+---------+---------------+------------+---------------+---------+------------+\n",
            "only showing top 20 rows\n",
            "\n"
          ]
        }
      ]
    },
    {
      "cell_type": "code",
      "source": [
        "data2.show()"
      ],
      "metadata": {
        "colab": {
          "base_uri": "https://localhost:8080/"
        },
        "id": "bUkDFS0bkEGI",
        "outputId": "d1677644-2f35-4d2e-a7d7-7ee7401ad134"
      },
      "execution_count": 48,
      "outputs": [
        {
          "output_type": "stream",
          "name": "stdout",
          "text": [
            "+---+------+---------------------+----------------------------------------+-------------------------------+-----------------------------+---------------------------------+--------------------------------+--------------------------------+----------------------------------------+----------------------------------+-----------------------------------------------------------+\n",
            "|Age|Gender|Do you play PUBG game|How long have you been playing this game|How often do you play this Game|How much time you spent daily|How affect this game on students6|Positive effects of playing PUBG|Negative effects of playing PUBG|What are reasons that you dont play PUBG|How affect this game on students10|According to you are there positive effects of playing PUBG|\n",
            "+---+------+---------------------+----------------------------------------+-------------------------------+-----------------------------+---------------------------------+--------------------------------+--------------------------------+----------------------------------------+----------------------------------+-----------------------------------------------------------+\n",
            "| 21|Female|                  Yes|                        Less than 1 year|              Several in a week|                  Upto 1 hour|                         Positive|            Leadership Qualities|            Affects mental he...|                                    null|                              null|                                                       null|\n",
            "| 24|  Male|                  Yes|                        Less than 1 year|               Several in a day|                  Upto 1 hour|                         Negative|            Alertness, Co-ord...|            Addiction, Anti-s...|                                    null|                              null|                                                       null|\n",
            "| 22|  Male|                  Yes|                             1 - 2 years|              Several in a week|                  1 - 2 hours|                         Negative|                       Alertness|            Violent tendency,...|                                    null|                              null|                                                       null|\n",
            "| 23|  Male|                  Yes|                             1 - 2 years|              Several in a week|                  1 - 2 hours|                         Positive|            Alertness, Co-ord...|                       Addiction|                                    null|                              null|                                                       null|\n",
            "| 21|Female|                  Yes|                        Less than 1 year|               Several in a day|          Less than 30 minute|                         Negative|                       Alertness|            Violent tendency,...|                                    null|                              null|                                                       null|\n",
            "| 24|  Male|                  Yes|                        Less than 1 year|              Several in a week|          Less than 30 minute|                         Positive|            Alertness, Co-ord...|            Addiction, Distur...|                                    null|                              null|                                                       null|\n",
            "| 22|  Male|                  Yes|                       More than 2 years|             Several in a month|          Less than 30 minute|                         Negative|            Alertness, Co-ord...|            Violent tendency,...|                                    null|                              null|                                                       null|\n",
            "| 22|Female|                  Yes|                        Less than 1 year|             Several in a month|          Less than 30 minute|                         Negative|                       Alertness|            Addiction, Affect...|                                    null|                              null|                                                       null|\n",
            "| 24|  Male|                  Yes|                        Less than 1 year|              Several in a week|                  Upto 1 hour|                         Negative|                   Concentration|            Poor physical hea...|                                    null|                              null|                                                       null|\n",
            "| 26|  Male|                  Yes|                        Less than 1 year|               Several in a day|                  Upto 1 hour|                         Negative|            Alertness, Co-ord...|            Violent tendency,...|                                    null|                              null|                                                       null|\n",
            "| 18|Female|                  Yes|                        Less than 1 year|               Several in a day|            More than 2 hours|                         Negative|            Alertness, Leader...|            Addiction, Poor p...|                                    null|                              null|                                                       null|\n",
            "| 18|  Male|                  Yes|                             1 - 2 years|              Several in a week|                  Upto 1 hour|                         Positive|            Co-ordination, Co...|            Addiction, Anti-s...|                                    null|                              null|                                                       null|\n",
            "| 20|Female|                  Yes|                       More than 2 years|               Several in a day|                  Upto 1 hour|                         Positive|            Cognition, Leader...|            Addiction, Affect...|                                    null|                              null|                                                       null|\n",
            "| 19|  Male|                  Yes|                        Less than 1 year|              Several in a week|                  Upto 1 hour|                         Positive|            Cognition, Leader...|            Addiction, Distur...|                                    null|                              null|                                                       null|\n",
            "| 21|  Male|                  Yes|                       More than 2 years|              Several in a week|                  1 - 2 hours|                         Positive|            Co-ordination, Co...|            Addiction, Anti-s...|                                    null|                              null|                                                       null|\n",
            "| 22|  Male|                  Yes|                             1 - 2 years|              Several in a week|          Less than 30 minute|                         Positive|            Alertness, Leader...|            Violent tendency,...|                                    null|                              null|                                                       null|\n",
            "| 23|  Male|                  Yes|                       More than 2 years|              Several in a week|                  1 - 2 hours|                         Positive|            Alertness, Co-ord...|            Violent tendency,...|                                    null|                              null|                                                       null|\n",
            "| 25|  Male|                  Yes|                             1 - 2 years|               Several in a day|          Less than 30 minute|                         Negative|            Co-ordination, Co...|            Addiction, Anti-s...|                                    null|                              null|                                                       null|\n",
            "| 23|Female|                  Yes|                             1 - 2 years|              Several in a week|                  1 - 2 hours|                         Positive|            Alertness, Co-ord...|            Addiction, Poor p...|                                    null|                              null|                                                       null|\n",
            "| 25|  Male|                  Yes|                       More than 2 years|             Several in a month|                  Upto 1 hour|                         Positive|            Alertness, Cognit...|            Violent tendency,...|                                    null|                              null|                                                       null|\n",
            "+---+------+---------------------+----------------------------------------+-------------------------------+-----------------------------+---------------------------------+--------------------------------+--------------------------------+----------------------------------------+----------------------------------+-----------------------------------------------------------+\n",
            "only showing top 20 rows\n",
            "\n"
          ]
        }
      ]
    },
    {
      "cell_type": "code",
      "source": [
        "data1.head(5)"
      ],
      "metadata": {
        "colab": {
          "base_uri": "https://localhost:8080/"
        },
        "id": "UMNhA1C6kHnX",
        "outputId": "6e627f4a-4cd2-4818-da1c-a6be4bfa8a56"
      },
      "execution_count": 49,
      "outputs": [
        {
          "output_type": "execute_result",
          "data": {
            "text/plain": [
              "[Row(Id='2f262dd9795e60', groupId='78437bcd91d40e', matchId='d5db3a49eb2955', assists='0', boosts='0', damageDealt='0', DBNOs='0', headshotKills='0', heals='0', killPlace='92', killPoints='1126', kills='0', killStreaks='0', longestKill='0', matchDuration='1376', matchType='squad-fpp', maxPlace='29', numGroups='28', rankPoints='-1', revives='0', rideDistance='0', roadKills='0', swimDistance='0', teamKills='0', vehicleDestroys='0', walkDistance='0', weaponsAcquired='0', winPoints='1470', winPlacePerc='0'),\n",
              " Row(Id='a32847cf5bf34b', groupId='85b7ce5a12e10b', matchId='65223f05c7fdb4', assists='0', boosts='0', damageDealt='163.2', DBNOs='1', headshotKills='1', heals='0', killPlace='42', killPoints='1309', kills='1', killStreaks='1', longestKill='6.589', matchDuration='1370', matchType='squad-fpp', maxPlace='28', numGroups='28', rankPoints='-1', revives='0', rideDistance='0', roadKills='0', swimDistance='0', teamKills='0', vehicleDestroys='0', walkDistance='132.7', weaponsAcquired='2', winPoints='1531', winPlacePerc='0.2222'),\n",
              " Row(Id='1b1900a9990396', groupId='edf80d6523380a', matchId='1cadec4534f30a', assists='0', boosts='3', damageDealt='278.7', DBNOs='2', headshotKills='1', heals='8', killPlace='16', killPoints='0', kills='2', killStreaks='1', longestKill='23.07', matchDuration='1381', matchType='squad-fpp', maxPlace='29', numGroups='27', rankPoints='1479', revives='3', rideDistance='0', roadKills='0', swimDistance='0', teamKills='0', vehicleDestroys='0', walkDistance='3591', weaponsAcquired='10', winPoints='0', winPlacePerc='0.8571'),\n",
              " Row(Id='f589dd03b60bf2', groupId='804ab5e5585558', matchId='c4a5676dc91604', assists='0', boosts='0', damageDealt='191.9', DBNOs='1', headshotKills='0', heals='0', killPlace='31', killPoints='0', kills='1', killStreaks='1', longestKill='24.89', matchDuration='1708', matchType='squad', maxPlace='27', numGroups='25', rankPoints='1500', revives='0', rideDistance='0', roadKills='0', swimDistance='0', teamKills='0', vehicleDestroys='0', walkDistance='332.7', weaponsAcquired='3', winPoints='0', winPlacePerc='0.3462'),\n",
              " Row(Id='c23c4cc5b78b35', groupId='b3e2cd169ed920', matchId='cd595700a01bfa', assists='0', boosts='0', damageDealt='100', DBNOs='1', headshotKills='0', heals='0', killPlace='87', killPoints='1332', kills='0', killStreaks='0', longestKill='0', matchDuration='1807', matchType='squad-fpp', maxPlace='30', numGroups='30', rankPoints='-1', revives='0', rideDistance='0', roadKills='0', swimDistance='0', teamKills='0', vehicleDestroys='0', walkDistance='252.7', weaponsAcquired='3', winPoints='1557', winPlacePerc='0.069')]"
            ]
          },
          "metadata": {},
          "execution_count": 49
        }
      ]
    },
    {
      "cell_type": "code",
      "source": [
        "data1.tail(5)"
      ],
      "metadata": {
        "colab": {
          "base_uri": "https://localhost:8080/"
        },
        "id": "OL1A8orlkvI3",
        "outputId": "691416bd-06a2-471a-ed28-1b2455b46a98"
      },
      "execution_count": 50,
      "outputs": [
        {
          "output_type": "execute_result",
          "data": {
            "text/plain": [
              "[Row(Id='ef4f474acd8e85', groupId='2eca2a8391f75d', matchId='492ecdfae90b46', assists='0', boosts='3', damageDealt='204.5', DBNOs='1', headshotKills='0', heals='0', killPlace='17', killPoints='1033', kills='2', killStreaks='1', longestKill='13.27', matchDuration='1288', matchType='squad-fpp', maxPlace='31', numGroups='30', rankPoints='-1', revives='3', rideDistance='0', roadKills='0', swimDistance='0', teamKills='0', vehicleDestroys='0', walkDistance='1648', weaponsAcquired='4', winPoints='1471', winPlacePerc='0.8333'),\n",
              " Row(Id='cf0bf82fb4d80e', groupId='2eaf2765f93adb', matchId='14bffd71e96320', assists='0', boosts='0', damageDealt='0', DBNOs='0', headshotKills='0', heals='0', killPlace='49', killPoints='1000', kills='0', killStreaks='0', longestKill='0', matchDuration='1906', matchType='duo-fpp', maxPlace='47', numGroups='44', rankPoints='-1', revives='0', rideDistance='0', roadKills='0', swimDistance='0', teamKills='0', vehicleDestroys='0', walkDistance='897.1', weaponsAcquired='6', winPoints='1500', winPlacePerc='0.7174'),\n",
              " Row(Id='a0a31a0b1dcbe1', groupId='8d50c64ccc5071', matchId='147e4bbb62e3bb', assists='0', boosts='0', damageDealt='0', DBNOs='0', headshotKills='0', heals='0', killPlace='83', killPoints='1334', kills='0', killStreaks='0', longestKill='0', matchDuration='1344', matchType='duo-fpp', maxPlace='49', numGroups='49', rankPoints='-1', revives='0', rideDistance='0', roadKills='0', swimDistance='0', teamKills='0', vehicleDestroys='0', walkDistance='188.2', weaponsAcquired='2', winPoints='1434', winPlacePerc='0.2083'),\n",
              " Row(Id='f6874657399d69', groupId='d31843d7e62ccb', matchId='662567dcf280f5', assists='0', boosts='0', damageDealt='0', DBNOs='0', headshotKills='0', heals='0', killPlace='82', killPoints='1335', kills='0', killStreaks='0', longestKill='0', matchDuration='1355', matchType='duo-fpp', maxPlace='50', numGroups='50', rankPoints='-1', revives='0', rideDistance='0', roadKills='0', swimDistance='0', teamKills='0', vehicleDestroys='0', walkDistance='108.1', weaponsAcquired='5', winPoints='1534', winPlacePerc='0.2449'),\n",
              " Row(Id='90359b0b8f8b0d', groupId='61d5b1bb8da43f', matchId='258bfa48d88014', assists='0', boosts='0', damageDealt='0', DBNOs='0', headshotKills='0', heals='0', killPlace='78', killPoints='0', kills='0', killStreaks='0', longestKill='0', matchDuration='1416', matchType='solo', maxPlace='97', numGroups='93', rankPoints='1511', revives='0', rideDistance='0', roadKills='0', swimDistance='0', teamKills='0', vehicleDestroys='0', walkDistance='53.36', weaponsAcquired='1', winPoints='0', winPlacePerc='0.1875')]"
            ]
          },
          "metadata": {},
          "execution_count": 50
        }
      ]
    },
    {
      "cell_type": "code",
      "source": [
        "data2.head(5)"
      ],
      "metadata": {
        "colab": {
          "base_uri": "https://localhost:8080/"
        },
        "id": "ivlFXEpfkxXx",
        "outputId": "b7e78290-9d1a-4bb7-8668-55353902a52b"
      },
      "execution_count": 51,
      "outputs": [
        {
          "output_type": "execute_result",
          "data": {
            "text/plain": [
              "[Row(Age='21', Gender='Female', Do you play PUBG game='Yes', How long have you been playing this game='Less than 1 year', How often do you play this Game='Several in a week', How much time you spent daily='Upto 1 hour', How affect this game on students6='Positive', Positive effects of playing PUBG='Leadership Qualities', Negative effects of playing PUBG='Affects mental health', What are reasons that you dont play PUBG=None, How affect this game on students10=None, According to you are there positive effects of playing PUBG=None),\n",
              " Row(Age='24', Gender='Male', Do you play PUBG game='Yes', How long have you been playing this game='Less than 1 year', How often do you play this Game='Several in a day', How much time you spent daily='Upto 1 hour', How affect this game on students6='Negative', Positive effects of playing PUBG='Alertness, Co-ordination, Leadership Qualities', Negative effects of playing PUBG='Addiction, Anti-social, Poor physical health, Affects mental health, Bad academic score', What are reasons that you dont play PUBG=None, How affect this game on students10=None, According to you are there positive effects of playing PUBG=None),\n",
              " Row(Age='22', Gender='Male', Do you play PUBG game='Yes', How long have you been playing this game='1 - 2 years', How often do you play this Game='Several in a week', How much time you spent daily='1 - 2 hours', How affect this game on students6='Negative', Positive effects of playing PUBG='Alertness', Negative effects of playing PUBG='Violent tendency, Addiction, Poor physical health, Affects mental health, Disturb sleep pattern, Bad academic score', What are reasons that you dont play PUBG=None, How affect this game on students10=None, According to you are there positive effects of playing PUBG=None),\n",
              " Row(Age='23', Gender='Male', Do you play PUBG game='Yes', How long have you been playing this game='1 - 2 years', How often do you play this Game='Several in a week', How much time you spent daily='1 - 2 hours', How affect this game on students6='Positive', Positive effects of playing PUBG='Alertness, Co-ordination, Leadership Qualities', Negative effects of playing PUBG='Addiction', What are reasons that you dont play PUBG=None, How affect this game on students10=None, According to you are there positive effects of playing PUBG=None),\n",
              " Row(Age='21', Gender='Female', Do you play PUBG game='Yes', How long have you been playing this game='Less than 1 year', How often do you play this Game='Several in a day', How much time you spent daily='Less than 30 minute', How affect this game on students6='Negative', Positive effects of playing PUBG='Alertness', Negative effects of playing PUBG='Violent tendency, Addiction, Anti-social, Poor physical health, Affects mental health, Disturb sleep pattern, Bad academic score', What are reasons that you dont play PUBG=None, How affect this game on students10=None, According to you are there positive effects of playing PUBG=None)]"
            ]
          },
          "metadata": {},
          "execution_count": 51
        }
      ]
    },
    {
      "cell_type": "code",
      "source": [
        "data2.tail(5)"
      ],
      "metadata": {
        "colab": {
          "base_uri": "https://localhost:8080/"
        },
        "id": "ZYotbiMZkzVw",
        "outputId": "d3db7028-c557-400e-c789-3d0a073f56be"
      },
      "execution_count": 52,
      "outputs": [
        {
          "output_type": "execute_result",
          "data": {
            "text/plain": [
              "[Row(Age='25', Gender='Male', Do you play PUBG game='No', How long have you been playing this game=None, How often do you play this Game=None, How much time you spent daily=None, How affect this game on students6=None, Positive effects of playing PUBG=None, Negative effects of playing PUBG=None, What are reasons that you dont play PUBG='Addictive, Poor physical health, Affects mental health', How affect this game on students10='Negative', According to you are there positive effects of playing PUBG='Yes'),\n",
              " Row(Age='24', Gender='Female', Do you play PUBG game='No', How long have you been playing this game=None, How often do you play this Game=None, How much time you spent daily=None, How affect this game on students6=None, Positive effects of playing PUBG=None, Negative effects of playing PUBG=None, What are reasons that you dont play PUBG='Poor physical health, Affects mental health, Disturb sleep pattern, Bad academic score', How affect this game on students10='Negative', According to you are there positive effects of playing PUBG='Yes'),\n",
              " Row(Age='24', Gender='Female', Do you play PUBG game='No', How long have you been playing this game=None, How often do you play this Game=None, How much time you spent daily=None, How affect this game on students6=None, Positive effects of playing PUBG=None, Negative effects of playing PUBG=None, What are reasons that you dont play PUBG='Addictive, Poor physical health, Disturb sleep pattern', How affect this game on students10='Negative', According to you are there positive effects of playing PUBG='No'),\n",
              " Row(Age='22', Gender='Male', Do you play PUBG game='No', How long have you been playing this game=None, How often do you play this Game=None, How much time you spent daily=None, How affect this game on students6=None, Positive effects of playing PUBG=None, Negative effects of playing PUBG=None, What are reasons that you dont play PUBG='Poor physical health, Bad academic score', How affect this game on students10='Negative', According to you are there positive effects of playing PUBG='Yes'),\n",
              " Row(Age='23', Gender='Female', Do you play PUBG game='No', How long have you been playing this game=None, How often do you play this Game=None, How much time you spent daily=None, How affect this game on students6=None, Positive effects of playing PUBG=None, Negative effects of playing PUBG=None, What are reasons that you dont play PUBG=\"Violent tendency, Addictive, Anti-social, Poor physical health, Affects mental health, Don't like to play\", How affect this game on students10='Negative', According to you are there positive effects of playing PUBG='No')]"
            ]
          },
          "metadata": {},
          "execution_count": 52
        }
      ]
    },
    {
      "cell_type": "code",
      "source": [
        "data1.printSchema()"
      ],
      "metadata": {
        "colab": {
          "base_uri": "https://localhost:8080/"
        },
        "id": "K2jMfa7ik1Md",
        "outputId": "75414b4a-e4c7-4b2e-ff3a-4085a1d97473"
      },
      "execution_count": 53,
      "outputs": [
        {
          "output_type": "stream",
          "name": "stdout",
          "text": [
            "root\n",
            " |-- Id: string (nullable = true)\n",
            " |-- groupId: string (nullable = true)\n",
            " |-- matchId: string (nullable = true)\n",
            " |-- assists: string (nullable = true)\n",
            " |-- boosts: string (nullable = true)\n",
            " |-- damageDealt: string (nullable = true)\n",
            " |-- DBNOs: string (nullable = true)\n",
            " |-- headshotKills: string (nullable = true)\n",
            " |-- heals: string (nullable = true)\n",
            " |-- killPlace: string (nullable = true)\n",
            " |-- killPoints: string (nullable = true)\n",
            " |-- kills: string (nullable = true)\n",
            " |-- killStreaks: string (nullable = true)\n",
            " |-- longestKill: string (nullable = true)\n",
            " |-- matchDuration: string (nullable = true)\n",
            " |-- matchType: string (nullable = true)\n",
            " |-- maxPlace: string (nullable = true)\n",
            " |-- numGroups: string (nullable = true)\n",
            " |-- rankPoints: string (nullable = true)\n",
            " |-- revives: string (nullable = true)\n",
            " |-- rideDistance: string (nullable = true)\n",
            " |-- roadKills: string (nullable = true)\n",
            " |-- swimDistance: string (nullable = true)\n",
            " |-- teamKills: string (nullable = true)\n",
            " |-- vehicleDestroys: string (nullable = true)\n",
            " |-- walkDistance: string (nullable = true)\n",
            " |-- weaponsAcquired: string (nullable = true)\n",
            " |-- winPoints: string (nullable = true)\n",
            " |-- winPlacePerc: string (nullable = true)\n",
            "\n"
          ]
        }
      ]
    },
    {
      "cell_type": "code",
      "source": [
        "data2.printSchema()"
      ],
      "metadata": {
        "colab": {
          "base_uri": "https://localhost:8080/"
        },
        "id": "HJRjNHT2k9In",
        "outputId": "16ed7119-93cc-462f-e621-cc853d5fd3e9"
      },
      "execution_count": 54,
      "outputs": [
        {
          "output_type": "stream",
          "name": "stdout",
          "text": [
            "root\n",
            " |-- Age: string (nullable = true)\n",
            " |-- Gender: string (nullable = true)\n",
            " |-- Do you play PUBG game: string (nullable = true)\n",
            " |-- How long have you been playing this game: string (nullable = true)\n",
            " |-- How often do you play this Game: string (nullable = true)\n",
            " |-- How much time you spent daily: string (nullable = true)\n",
            " |-- How affect this game on students6: string (nullable = true)\n",
            " |-- Positive effects of playing PUBG: string (nullable = true)\n",
            " |-- Negative effects of playing PUBG: string (nullable = true)\n",
            " |-- What are reasons that you dont play PUBG: string (nullable = true)\n",
            " |-- How affect this game on students10: string (nullable = true)\n",
            " |-- According to you are there positive effects of playing PUBG: string (nullable = true)\n",
            "\n"
          ]
        }
      ]
    },
    {
      "cell_type": "code",
      "source": [
        "data1 = data1.withColumn('Id',data1.Id.astype('string'))\\\n",
        ".withColumn('groupId',data1.groupId.astype('string'))\\\n",
        ".withColumn('matchId',data1.matchId.astype('string'))\\\n",
        ".withColumn('assists',data1.assists.astype('int'))\\\n",
        ".withColumn('boosts',data1.boosts.astype('int'))\\\n",
        ".withColumn('damageDealt',data1.damageDealt.astype('float'))\\\n",
        ".withColumn('DBNOs',data1.DBNOs.astype('int'))\\\n",
        ".withColumn('headshotKills',data1.headshotKills.astype('int'))\\\n",
        ".withColumn('heals',data1.heals.astype('int'))\\\n",
        ".withColumn('killPlace',data1.killPlace.astype('int'))\\\n",
        ".withColumn('killPoints',data1.killPoints.astype('int'))\\\n",
        ".withColumn('kills',data1.kills.astype('int'))\\\n",
        ".withColumn('killStreaks',data1.killStreaks.astype('int'))\\\n",
        ".withColumn('longestKill',data1.longestKill.astype('float'))\\\n",
        ".withColumn('matchDuration',data1.matchDuration.astype('int'))\\\n",
        ".withColumn('matchType',data1.matchType.astype('string'))\\\n",
        ".withColumn('maxPlace',data1.maxPlace.astype('int'))\\\n",
        ".withColumn('numGroups',data1.numGroups.astype('int'))\\\n",
        ".withColumn('rankPoints',data1.rankPoints.astype('int'))\\\n",
        ".withColumn('revives',data1.revives.astype('int'))\\\n",
        ".withColumn('rideDistance',data1.rideDistance.astype('float'))\\\n",
        ".withColumn('roadKills',data1.roadKills.astype('int'))\\\n",
        ".withColumn('swimDistance',data1.swimDistance.astype('int'))\\\n",
        ".withColumn('teamKills',data1.teamKills.astype('int'))\\\n",
        ".withColumn('vehicleDestroys',data1.vehicleDestroys.astype('int'))\\\n",
        ".withColumn('walkDistance',data1.walkDistance.astype('float'))\\\n",
        ".withColumn('weaponsAcquired',data1.weaponsAcquired.astype('int'))\\\n",
        ".withColumn('winPoints',data1.winPoints.astype('int'))\\\n",
        ".withColumn('winPlacePerc',data1.winPlacePerc.astype('float'))\n"
      ],
      "metadata": {
        "id": "8YnNoMRrk_q0"
      },
      "execution_count": 55,
      "outputs": []
    },
    {
      "cell_type": "code",
      "source": [
        ""
      ],
      "metadata": {
        "id": "YSr82GicyfyB"
      },
      "execution_count": 55,
      "outputs": []
    },
    {
      "cell_type": "code",
      "source": [
        "data1.printSchema()"
      ],
      "metadata": {
        "colab": {
          "base_uri": "https://localhost:8080/"
        },
        "id": "lVp150-9r9yL",
        "outputId": "a0de6199-d5c9-4b15-cb6d-edb0c2b39b6d"
      },
      "execution_count": 56,
      "outputs": [
        {
          "output_type": "stream",
          "name": "stdout",
          "text": [
            "root\n",
            " |-- Id: string (nullable = true)\n",
            " |-- groupId: string (nullable = true)\n",
            " |-- matchId: string (nullable = true)\n",
            " |-- assists: integer (nullable = true)\n",
            " |-- boosts: integer (nullable = true)\n",
            " |-- damageDealt: float (nullable = true)\n",
            " |-- DBNOs: integer (nullable = true)\n",
            " |-- headshotKills: integer (nullable = true)\n",
            " |-- heals: integer (nullable = true)\n",
            " |-- killPlace: integer (nullable = true)\n",
            " |-- killPoints: integer (nullable = true)\n",
            " |-- kills: integer (nullable = true)\n",
            " |-- killStreaks: integer (nullable = true)\n",
            " |-- longestKill: float (nullable = true)\n",
            " |-- matchDuration: integer (nullable = true)\n",
            " |-- matchType: string (nullable = true)\n",
            " |-- maxPlace: integer (nullable = true)\n",
            " |-- numGroups: integer (nullable = true)\n",
            " |-- rankPoints: integer (nullable = true)\n",
            " |-- revives: integer (nullable = true)\n",
            " |-- rideDistance: float (nullable = true)\n",
            " |-- roadKills: integer (nullable = true)\n",
            " |-- swimDistance: integer (nullable = true)\n",
            " |-- teamKills: integer (nullable = true)\n",
            " |-- vehicleDestroys: integer (nullable = true)\n",
            " |-- walkDistance: float (nullable = true)\n",
            " |-- weaponsAcquired: integer (nullable = true)\n",
            " |-- winPoints: integer (nullable = true)\n",
            " |-- winPlacePerc: float (nullable = true)\n",
            "\n"
          ]
        }
      ]
    },
    {
      "cell_type": "code",
      "source": [
        "data2 = data2.withColumn('Age',data2.Age.astype('int'))\n"
      ],
      "metadata": {
        "id": "dnI0uwplsCw1"
      },
      "execution_count": 57,
      "outputs": []
    },
    {
      "cell_type": "code",
      "source": [
        "data2.printSchema()"
      ],
      "metadata": {
        "colab": {
          "base_uri": "https://localhost:8080/"
        },
        "id": "tGkl2sE-wlKj",
        "outputId": "f4d7b21d-daef-4924-9905-7c2f76c69e84"
      },
      "execution_count": 58,
      "outputs": [
        {
          "output_type": "stream",
          "name": "stdout",
          "text": [
            "root\n",
            " |-- Age: integer (nullable = true)\n",
            " |-- Gender: string (nullable = true)\n",
            " |-- Do you play PUBG game: string (nullable = true)\n",
            " |-- How long have you been playing this game: string (nullable = true)\n",
            " |-- How often do you play this Game: string (nullable = true)\n",
            " |-- How much time you spent daily: string (nullable = true)\n",
            " |-- How affect this game on students6: string (nullable = true)\n",
            " |-- Positive effects of playing PUBG: string (nullable = true)\n",
            " |-- Negative effects of playing PUBG: string (nullable = true)\n",
            " |-- What are reasons that you dont play PUBG: string (nullable = true)\n",
            " |-- How affect this game on students10: string (nullable = true)\n",
            " |-- According to you are there positive effects of playing PUBG: string (nullable = true)\n",
            "\n"
          ]
        }
      ]
    },
    {
      "cell_type": "code",
      "source": [
        "data1.select('Id','kills','killPoints').show()"
      ],
      "metadata": {
        "colab": {
          "base_uri": "https://localhost:8080/"
        },
        "id": "ZZ9HQpFbymih",
        "outputId": "ab70cc53-8dd1-46ed-a9d7-59c2cb436ca3"
      },
      "execution_count": 59,
      "outputs": [
        {
          "output_type": "stream",
          "name": "stdout",
          "text": [
            "+--------------+-----+----------+\n",
            "|            Id|kills|killPoints|\n",
            "+--------------+-----+----------+\n",
            "|2f262dd9795e60|    0|      1126|\n",
            "|a32847cf5bf34b|    1|      1309|\n",
            "|1b1900a9990396|    2|         0|\n",
            "|f589dd03b60bf2|    1|         0|\n",
            "|c23c4cc5b78b35|    0|      1332|\n",
            "|fd034582dd4d2e|    0|         0|\n",
            "|c60b5633f4dcc8|    8|         0|\n",
            "|f0ba8246b6980f|    0|         0|\n",
            "|79c5d5eda1c72e|    4|         0|\n",
            "|94834a28e52abd|    5|      1502|\n",
            "|f051dcc9b0b3ce|    0|         0|\n",
            "|f02c2f34accf08|    0|         0|\n",
            "|6701c06774d409|    0|      1299|\n",
            "|4e4aef4aeee5f5|    1|         0|\n",
            "|d26b4b75c5229d|    0|      1267|\n",
            "|c5473a410326a8|    2|         0|\n",
            "|321fe9f3c71131|    0|         0|\n",
            "|f8933f3ee2e431|    0|         0|\n",
            "|c70c7337cd46b4|    0|      1183|\n",
            "|d6c231133b5d57|    0|      1130|\n",
            "+--------------+-----+----------+\n",
            "only showing top 20 rows\n",
            "\n"
          ]
        }
      ]
    },
    {
      "cell_type": "code",
      "source": [
        "data2.select('Age','Gender','How affect this game on students6').show()"
      ],
      "metadata": {
        "colab": {
          "base_uri": "https://localhost:8080/"
        },
        "id": "-MeZYKFLy5Bq",
        "outputId": "2f020341-c440-4b84-9e30-c8e6316defab"
      },
      "execution_count": 60,
      "outputs": [
        {
          "output_type": "stream",
          "name": "stdout",
          "text": [
            "+---+------+---------------------------------+\n",
            "|Age|Gender|How affect this game on students6|\n",
            "+---+------+---------------------------------+\n",
            "| 21|Female|                         Positive|\n",
            "| 24|  Male|                         Negative|\n",
            "| 22|  Male|                         Negative|\n",
            "| 23|  Male|                         Positive|\n",
            "| 21|Female|                         Negative|\n",
            "| 24|  Male|                         Positive|\n",
            "| 22|  Male|                         Negative|\n",
            "| 22|Female|                         Negative|\n",
            "| 24|  Male|                         Negative|\n",
            "| 26|  Male|                         Negative|\n",
            "| 18|Female|                         Negative|\n",
            "| 18|  Male|                         Positive|\n",
            "| 20|Female|                         Positive|\n",
            "| 19|  Male|                         Positive|\n",
            "| 21|  Male|                         Positive|\n",
            "| 22|  Male|                         Positive|\n",
            "| 23|  Male|                         Positive|\n",
            "| 25|  Male|                         Negative|\n",
            "| 23|Female|                         Positive|\n",
            "| 25|  Male|                         Positive|\n",
            "+---+------+---------------------------------+\n",
            "only showing top 20 rows\n",
            "\n"
          ]
        }
      ]
    },
    {
      "cell_type": "code",
      "source": [
        "from pyspark.ml.feature import VectorAssembler"
      ],
      "metadata": {
        "id": "TQQvNcvZzH8r"
      },
      "execution_count": 61,
      "outputs": []
    },
    {
      "cell_type": "code",
      "source": [
        "assembeler = VectorAssembler(\n",
        "    inputCols = ['kills','headshotKills'],\n",
        "    outputCol = 'features'\n",
        ")"
      ],
      "metadata": {
        "id": "NaZmUQEv1ear"
      },
      "execution_count": 62,
      "outputs": []
    },
    {
      "cell_type": "code",
      "source": [
        "data1.printSchema()"
      ],
      "metadata": {
        "colab": {
          "base_uri": "https://localhost:8080/"
        },
        "id": "aX0WR0MN1qYs",
        "outputId": "f0be2159-0160-4b9d-91b8-1d67529fdac8"
      },
      "execution_count": 63,
      "outputs": [
        {
          "output_type": "stream",
          "name": "stdout",
          "text": [
            "root\n",
            " |-- Id: string (nullable = true)\n",
            " |-- groupId: string (nullable = true)\n",
            " |-- matchId: string (nullable = true)\n",
            " |-- assists: integer (nullable = true)\n",
            " |-- boosts: integer (nullable = true)\n",
            " |-- damageDealt: float (nullable = true)\n",
            " |-- DBNOs: integer (nullable = true)\n",
            " |-- headshotKills: integer (nullable = true)\n",
            " |-- heals: integer (nullable = true)\n",
            " |-- killPlace: integer (nullable = true)\n",
            " |-- killPoints: integer (nullable = true)\n",
            " |-- kills: integer (nullable = true)\n",
            " |-- killStreaks: integer (nullable = true)\n",
            " |-- longestKill: float (nullable = true)\n",
            " |-- matchDuration: integer (nullable = true)\n",
            " |-- matchType: string (nullable = true)\n",
            " |-- maxPlace: integer (nullable = true)\n",
            " |-- numGroups: integer (nullable = true)\n",
            " |-- rankPoints: integer (nullable = true)\n",
            " |-- revives: integer (nullable = true)\n",
            " |-- rideDistance: float (nullable = true)\n",
            " |-- roadKills: integer (nullable = true)\n",
            " |-- swimDistance: integer (nullable = true)\n",
            " |-- teamKills: integer (nullable = true)\n",
            " |-- vehicleDestroys: integer (nullable = true)\n",
            " |-- walkDistance: float (nullable = true)\n",
            " |-- weaponsAcquired: integer (nullable = true)\n",
            " |-- winPoints: integer (nullable = true)\n",
            " |-- winPlacePerc: float (nullable = true)\n",
            "\n"
          ]
        }
      ]
    },
    {
      "cell_type": "code",
      "source": [
        "data1 = assembeler.transform(data1)"
      ],
      "metadata": {
        "id": "zCuxXIhR1zM8"
      },
      "execution_count": 64,
      "outputs": []
    },
    {
      "cell_type": "code",
      "source": [
        "data1.show()"
      ],
      "metadata": {
        "colab": {
          "base_uri": "https://localhost:8080/"
        },
        "id": "ma9cxjMq72oV",
        "outputId": "97dcb96f-8519-409f-916c-5b413b0c76b9"
      },
      "execution_count": 65,
      "outputs": [
        {
          "output_type": "stream",
          "name": "stdout",
          "text": [
            "+--------------+--------------+--------------+-------+------+-----------+-----+-------------+-----+---------+----------+-----+-----------+-----------+-------------+---------+--------+---------+----------+-------+------------+---------+------------+---------+---------------+------------+---------------+---------+------------+---------+\n",
            "|            Id|       groupId|       matchId|assists|boosts|damageDealt|DBNOs|headshotKills|heals|killPlace|killPoints|kills|killStreaks|longestKill|matchDuration|matchType|maxPlace|numGroups|rankPoints|revives|rideDistance|roadKills|swimDistance|teamKills|vehicleDestroys|walkDistance|weaponsAcquired|winPoints|winPlacePerc| features|\n",
            "+--------------+--------------+--------------+-------+------+-----------+-----+-------------+-----+---------+----------+-----+-----------+-----------+-------------+---------+--------+---------+----------+-------+------------+---------+------------+---------+---------------+------------+---------------+---------+------------+---------+\n",
            "|2f262dd9795e60|78437bcd91d40e|d5db3a49eb2955|      0|     0|        0.0|    0|            0|    0|       92|      1126|    0|          0|        0.0|         1376|squad-fpp|      29|       28|        -1|      0|         0.0|        0|           0|        0|              0|         0.0|              0|     1470|         0.0|(2,[],[])|\n",
            "|a32847cf5bf34b|85b7ce5a12e10b|65223f05c7fdb4|      0|     0|      163.2|    1|            1|    0|       42|      1309|    1|          1|      6.589|         1370|squad-fpp|      28|       28|        -1|      0|         0.0|        0|           0|        0|              0|       132.7|              2|     1531|      0.2222|[1.0,1.0]|\n",
            "|1b1900a9990396|edf80d6523380a|1cadec4534f30a|      0|     3|      278.7|    2|            1|    8|       16|         0|    2|          1|      23.07|         1381|squad-fpp|      29|       27|      1479|      3|         0.0|        0|           0|        0|              0|      3591.0|             10|        0|      0.8571|[2.0,1.0]|\n",
            "|f589dd03b60bf2|804ab5e5585558|c4a5676dc91604|      0|     0|      191.9|    1|            0|    0|       31|         0|    1|          1|      24.89|         1708|    squad|      27|       25|      1500|      0|         0.0|        0|           0|        0|              0|       332.7|              3|        0|      0.3462|[1.0,0.0]|\n",
            "|c23c4cc5b78b35|b3e2cd169ed920|cd595700a01bfa|      0|     0|      100.0|    1|            0|    0|       87|      1332|    0|          0|        0.0|         1807|squad-fpp|      30|       30|        -1|      0|         0.0|        0|           0|        0|              0|       252.7|              3|     1557|       0.069|(2,[],[])|\n",
            "|fd034582dd4d2e|9b8930aeee086a|6f6e52b15ddf21|      0|     1|      200.0|    2|            0|    1|       73|         0|    0|          0|        0.0|         1362|squad-fpp|      26|       24|      1769|      0|         0.0|        0|           0|        0|              0|       221.8|              2|        0|         0.2|(2,[],[])|\n",
            "|c60b5633f4dcc8|7c0f817f6627c7|3232c1e0fec04b|      0|     3|      638.2|    4|            1|    1|        1|         0|    8|          2|      158.7|         1369|  duo-fpp|      46|       46|      1747|      1|         0.0|        0|           0|        0|              0|      3350.0|              5|        0|      0.9333|[8.0,1.0]|\n",
            "|f0ba8246b6980f|7318b5204462cb|112e9711f86001|      0|     0|      27.94|    0|            0|    0|       66|         0|    0|          0|        0.0|         1349|  duo-fpp|      48|       46|      1502|      0|         0.0|        0|           0|        0|              0|       417.6|              4|        0|      0.3617|(2,[],[])|\n",
            "|79c5d5eda1c72e|a85b81198dfc06|ef5fc25e28ffb1|      1|     4|      275.8|    3|            0|    4|       10|         0|    4|          2|      77.42|         1387|    squad|      28|       27|      1500|      1|      1415.0|        0|           0|        0|              0|      1959.0|              4|        0|      0.6296|[4.0,0.0]|\n",
            "|94834a28e52abd|bc513cde35fa54|f36a754a9b88f7|      1|     1|      530.4|    4|            0|    8|        5|      1502|    5|          2|      33.67|         1377|squad-fpp|      27|       25|        -1|      1|       439.5|        0|           0|        0|              0|      2794.0|              5|     1527|      0.8462|[5.0,0.0]|\n",
            "|f051dcc9b0b3ce|d203c0e3d8c321|89a6a8738190b4|      0|     0|      20.59|    0|            0|    0|       48|         0|    0|          0|        0.0|         1358|squad-fpp|      29|       29|      1500|      0|         0.0|        0|           0|        0|              0|       284.1|              3|        0|      0.7857|(2,[],[])|\n",
            "|f02c2f34accf08|22ed911205c815|559dac9580b92a|      1|     0|      62.72|    0|            0|    2|       54|         0|    0|          0|        0.0|         1829|squad-fpp|      29|       29|      1485|      0|      4108.0|        0|           0|        0|              0|      1858.0|              3|        0|      0.7143|(2,[],[])|\n",
            "|6701c06774d409|cdb79f944d585b|9f3decb5ffba4e|      0|     0|        0.0|    0|            0|    0|       87|      1299|    0|          0|        0.0|         1385|squad-fpp|      30|       30|        -1|      0|         0.0|        0|           0|        0|              0|       53.12|              0|     1502|      0.1034|(2,[],[])|\n",
            "|4e4aef4aeee5f5|a9dfa1c736c889|ac92da38bb19ad|      0|     2|      13.83|    0|            0|    2|       27|         0|    1|          1|      42.24|         1778|squad-fpp|      29|       29|      1496|      0|      3411.0|        0|           0|        0|              0|      1232.0|              7|        0|      0.4643|[1.0,0.0]|\n",
            "|d26b4b75c5229d|130ea20c924e8c|14fb1c1b26e9a4|      0|     0|       25.8|    0|            0|    1|       58|      1267|    0|          0|        0.0|         1863| solo-fpp|      98|       94|        -1|      0|       944.2|        0|           0|        0|              0|      2022.0|              3|     1554|      0.5876|(2,[],[])|\n",
            "|c5473a410326a8|8a25860cd71a23|88cffe1ae97aff|      1|     1|      594.0|    2|            1|    7|       16|         0|    2|          1|      16.79|         1336|squad-fpp|      29|       27|      2722|      2|         0.0|        0|           0|        0|              0|       997.9|              6|        0|      0.6429|[2.0,1.0]|\n",
            "|321fe9f3c71131|cb3471586d99b4|1cf664f7c75122|      0|     0|      50.31|    0|            0|    0|       82|         0|    0|          0|        0.0|         1898|      duo|      50|       43|      1480|      0|         0.0|        0|           0|        0|              0|       61.44|              3|        0|      0.0408|(2,[],[])|\n",
            "|f8933f3ee2e431|114b20e9d7504b|d5fcb7a3981d33|      0|     0|        0.0|    0|            0|    0|       80|         0|    0|          0|        0.0|         1793|squad-fpp|      27|       27|      1202|      0|         0.0|        0|           0|        0|              0|       142.7|              3|        0|      0.1154|(2,[],[])|\n",
            "|c70c7337cd46b4|73870d831717aa|e6602141e44281|      0|     0|       25.8|    0|            0|    0|       74|      1183|    0|          0|        0.0|         1351|  duo-fpp|      48|       48|        -1|      0|         0.0|        0|           0|        0|              0|       283.6|              2|     1523|      0.2979|(2,[],[])|\n",
            "|d6c231133b5d57|928733f3037f92|b4baee11351ae6|      0|     0|      30.96|    0|            0|    1|       69|      1130|    0|          0|        0.0|         1421| solo-fpp|      97|       91|        -1|      0|         0.0|        0|           0|        0|              0|       332.1|              5|     1451|      0.3854|(2,[],[])|\n",
            "+--------------+--------------+--------------+-------+------+-----------+-----+-------------+-----+---------+----------+-----+-----------+-----------+-------------+---------+--------+---------+----------+-------+------------+---------+------------+---------+---------------+------------+---------------+---------+------------+---------+\n",
            "only showing top 20 rows\n",
            "\n"
          ]
        }
      ]
    },
    {
      "cell_type": "code",
      "source": [
        "data1.select('features').show()"
      ],
      "metadata": {
        "colab": {
          "base_uri": "https://localhost:8080/"
        },
        "id": "ezu_7sDM74lp",
        "outputId": "a6c90926-7d43-49d8-d377-bec430d15075"
      },
      "execution_count": 66,
      "outputs": [
        {
          "output_type": "stream",
          "name": "stdout",
          "text": [
            "+---------+\n",
            "| features|\n",
            "+---------+\n",
            "|(2,[],[])|\n",
            "|[1.0,1.0]|\n",
            "|[2.0,1.0]|\n",
            "|[1.0,0.0]|\n",
            "|(2,[],[])|\n",
            "|(2,[],[])|\n",
            "|[8.0,1.0]|\n",
            "|(2,[],[])|\n",
            "|[4.0,0.0]|\n",
            "|[5.0,0.0]|\n",
            "|(2,[],[])|\n",
            "|(2,[],[])|\n",
            "|(2,[],[])|\n",
            "|[1.0,0.0]|\n",
            "|(2,[],[])|\n",
            "|[2.0,1.0]|\n",
            "|(2,[],[])|\n",
            "|(2,[],[])|\n",
            "|(2,[],[])|\n",
            "|(2,[],[])|\n",
            "+---------+\n",
            "only showing top 20 rows\n",
            "\n"
          ]
        }
      ]
    },
    {
      "cell_type": "code",
      "source": [
        "from pyspark.ml.clustering import KMeans\n",
        "from pyspark.ml.evaluation import ClusteringEvaluator"
      ],
      "metadata": {
        "id": "DeQ7d3CG8Ehf"
      },
      "execution_count": 67,
      "outputs": []
    },
    {
      "cell_type": "code",
      "source": [
        "kmeans = KMeans().setK(3).setSeed(1)"
      ],
      "metadata": {
        "id": "VUNk3TCU8I4c"
      },
      "execution_count": 68,
      "outputs": []
    },
    {
      "cell_type": "code",
      "source": [
        "model = kmeans.fit(data1)"
      ],
      "metadata": {
        "id": "0NQ8zScK8U83"
      },
      "execution_count": 69,
      "outputs": []
    },
    {
      "cell_type": "code",
      "source": [
        "pred = model.transform(data1)"
      ],
      "metadata": {
        "id": "2EZeq_aj8cRx"
      },
      "execution_count": 70,
      "outputs": []
    },
    {
      "cell_type": "code",
      "source": [
        "pred.show()"
      ],
      "metadata": {
        "colab": {
          "base_uri": "https://localhost:8080/"
        },
        "id": "ZUC2Roha8ndO",
        "outputId": "d539f0fb-be27-414f-b7a5-e8495617cb28"
      },
      "execution_count": 71,
      "outputs": [
        {
          "output_type": "stream",
          "name": "stdout",
          "text": [
            "+--------------+--------------+--------------+-------+------+-----------+-----+-------------+-----+---------+----------+-----+-----------+-----------+-------------+---------+--------+---------+----------+-------+------------+---------+------------+---------+---------------+------------+---------------+---------+------------+---------+----------+\n",
            "|            Id|       groupId|       matchId|assists|boosts|damageDealt|DBNOs|headshotKills|heals|killPlace|killPoints|kills|killStreaks|longestKill|matchDuration|matchType|maxPlace|numGroups|rankPoints|revives|rideDistance|roadKills|swimDistance|teamKills|vehicleDestroys|walkDistance|weaponsAcquired|winPoints|winPlacePerc| features|prediction|\n",
            "+--------------+--------------+--------------+-------+------+-----------+-----+-------------+-----+---------+----------+-----+-----------+-----------+-------------+---------+--------+---------+----------+-------+------------+---------+------------+---------+---------------+------------+---------------+---------+------------+---------+----------+\n",
            "|2f262dd9795e60|78437bcd91d40e|d5db3a49eb2955|      0|     0|        0.0|    0|            0|    0|       92|      1126|    0|          0|        0.0|         1376|squad-fpp|      29|       28|        -1|      0|         0.0|        0|           0|        0|              0|         0.0|              0|     1470|         0.0|(2,[],[])|         1|\n",
            "|a32847cf5bf34b|85b7ce5a12e10b|65223f05c7fdb4|      0|     0|      163.2|    1|            1|    0|       42|      1309|    1|          1|      6.589|         1370|squad-fpp|      28|       28|        -1|      0|         0.0|        0|           0|        0|              0|       132.7|              2|     1531|      0.2222|[1.0,1.0]|         2|\n",
            "|1b1900a9990396|edf80d6523380a|1cadec4534f30a|      0|     3|      278.7|    2|            1|    8|       16|         0|    2|          1|      23.07|         1381|squad-fpp|      29|       27|      1479|      3|         0.0|        0|           0|        0|              0|      3591.0|             10|        0|      0.8571|[2.0,1.0]|         2|\n",
            "|f589dd03b60bf2|804ab5e5585558|c4a5676dc91604|      0|     0|      191.9|    1|            0|    0|       31|         0|    1|          1|      24.89|         1708|    squad|      27|       25|      1500|      0|         0.0|        0|           0|        0|              0|       332.7|              3|        0|      0.3462|[1.0,0.0]|         1|\n",
            "|c23c4cc5b78b35|b3e2cd169ed920|cd595700a01bfa|      0|     0|      100.0|    1|            0|    0|       87|      1332|    0|          0|        0.0|         1807|squad-fpp|      30|       30|        -1|      0|         0.0|        0|           0|        0|              0|       252.7|              3|     1557|       0.069|(2,[],[])|         1|\n",
            "|fd034582dd4d2e|9b8930aeee086a|6f6e52b15ddf21|      0|     1|      200.0|    2|            0|    1|       73|         0|    0|          0|        0.0|         1362|squad-fpp|      26|       24|      1769|      0|         0.0|        0|           0|        0|              0|       221.8|              2|        0|         0.2|(2,[],[])|         1|\n",
            "|c60b5633f4dcc8|7c0f817f6627c7|3232c1e0fec04b|      0|     3|      638.2|    4|            1|    1|        1|         0|    8|          2|      158.7|         1369|  duo-fpp|      46|       46|      1747|      1|         0.0|        0|           0|        0|              0|      3350.0|              5|        0|      0.9333|[8.0,1.0]|         0|\n",
            "|f0ba8246b6980f|7318b5204462cb|112e9711f86001|      0|     0|      27.94|    0|            0|    0|       66|         0|    0|          0|        0.0|         1349|  duo-fpp|      48|       46|      1502|      0|         0.0|        0|           0|        0|              0|       417.6|              4|        0|      0.3617|(2,[],[])|         1|\n",
            "|79c5d5eda1c72e|a85b81198dfc06|ef5fc25e28ffb1|      1|     4|      275.8|    3|            0|    4|       10|         0|    4|          2|      77.42|         1387|    squad|      28|       27|      1500|      1|      1415.0|        0|           0|        0|              0|      1959.0|              4|        0|      0.6296|[4.0,0.0]|         0|\n",
            "|94834a28e52abd|bc513cde35fa54|f36a754a9b88f7|      1|     1|      530.4|    4|            0|    8|        5|      1502|    5|          2|      33.67|         1377|squad-fpp|      27|       25|        -1|      1|       439.5|        0|           0|        0|              0|      2794.0|              5|     1527|      0.8462|[5.0,0.0]|         0|\n",
            "|f051dcc9b0b3ce|d203c0e3d8c321|89a6a8738190b4|      0|     0|      20.59|    0|            0|    0|       48|         0|    0|          0|        0.0|         1358|squad-fpp|      29|       29|      1500|      0|         0.0|        0|           0|        0|              0|       284.1|              3|        0|      0.7857|(2,[],[])|         1|\n",
            "|f02c2f34accf08|22ed911205c815|559dac9580b92a|      1|     0|      62.72|    0|            0|    2|       54|         0|    0|          0|        0.0|         1829|squad-fpp|      29|       29|      1485|      0|      4108.0|        0|           0|        0|              0|      1858.0|              3|        0|      0.7143|(2,[],[])|         1|\n",
            "|6701c06774d409|cdb79f944d585b|9f3decb5ffba4e|      0|     0|        0.0|    0|            0|    0|       87|      1299|    0|          0|        0.0|         1385|squad-fpp|      30|       30|        -1|      0|         0.0|        0|           0|        0|              0|       53.12|              0|     1502|      0.1034|(2,[],[])|         1|\n",
            "|4e4aef4aeee5f5|a9dfa1c736c889|ac92da38bb19ad|      0|     2|      13.83|    0|            0|    2|       27|         0|    1|          1|      42.24|         1778|squad-fpp|      29|       29|      1496|      0|      3411.0|        0|           0|        0|              0|      1232.0|              7|        0|      0.4643|[1.0,0.0]|         1|\n",
            "|d26b4b75c5229d|130ea20c924e8c|14fb1c1b26e9a4|      0|     0|       25.8|    0|            0|    1|       58|      1267|    0|          0|        0.0|         1863| solo-fpp|      98|       94|        -1|      0|       944.2|        0|           0|        0|              0|      2022.0|              3|     1554|      0.5876|(2,[],[])|         1|\n",
            "|c5473a410326a8|8a25860cd71a23|88cffe1ae97aff|      1|     1|      594.0|    2|            1|    7|       16|         0|    2|          1|      16.79|         1336|squad-fpp|      29|       27|      2722|      2|         0.0|        0|           0|        0|              0|       997.9|              6|        0|      0.6429|[2.0,1.0]|         2|\n",
            "|321fe9f3c71131|cb3471586d99b4|1cf664f7c75122|      0|     0|      50.31|    0|            0|    0|       82|         0|    0|          0|        0.0|         1898|      duo|      50|       43|      1480|      0|         0.0|        0|           0|        0|              0|       61.44|              3|        0|      0.0408|(2,[],[])|         1|\n",
            "|f8933f3ee2e431|114b20e9d7504b|d5fcb7a3981d33|      0|     0|        0.0|    0|            0|    0|       80|         0|    0|          0|        0.0|         1793|squad-fpp|      27|       27|      1202|      0|         0.0|        0|           0|        0|              0|       142.7|              3|        0|      0.1154|(2,[],[])|         1|\n",
            "|c70c7337cd46b4|73870d831717aa|e6602141e44281|      0|     0|       25.8|    0|            0|    0|       74|      1183|    0|          0|        0.0|         1351|  duo-fpp|      48|       48|        -1|      0|         0.0|        0|           0|        0|              0|       283.6|              2|     1523|      0.2979|(2,[],[])|         1|\n",
            "|d6c231133b5d57|928733f3037f92|b4baee11351ae6|      0|     0|      30.96|    0|            0|    1|       69|      1130|    0|          0|        0.0|         1421| solo-fpp|      97|       91|        -1|      0|         0.0|        0|           0|        0|              0|       332.1|              5|     1451|      0.3854|(2,[],[])|         1|\n",
            "+--------------+--------------+--------------+-------+------+-----------+-----+-------------+-----+---------+----------+-----+-----------+-----------+-------------+---------+--------+---------+----------+-------+------------+---------+------------+---------+---------------+------------+---------------+---------+------------+---------+----------+\n",
            "only showing top 20 rows\n",
            "\n"
          ]
        }
      ]
    },
    {
      "cell_type": "code",
      "source": [
        "evaluator = ClusteringEvaluator()"
      ],
      "metadata": {
        "id": "jEudDzsw8pQJ"
      },
      "execution_count": 72,
      "outputs": []
    },
    {
      "cell_type": "code",
      "source": [
        "res = evaluator.evaluate(pred)"
      ],
      "metadata": {
        "id": "5ZolgOvo8vJP"
      },
      "execution_count": 73,
      "outputs": []
    },
    {
      "cell_type": "code",
      "source": [
        "res"
      ],
      "metadata": {
        "colab": {
          "base_uri": "https://localhost:8080/"
        },
        "id": "ClGqGLVm8w9n",
        "outputId": "64231d24-17c1-4b33-dae0-15b656309cc0"
      },
      "execution_count": 74,
      "outputs": [
        {
          "output_type": "execute_result",
          "data": {
            "text/plain": [
              "0.7617710366356096"
            ]
          },
          "metadata": {},
          "execution_count": 74
        }
      ]
    },
    {
      "cell_type": "code",
      "source": [
        ""
      ],
      "metadata": {
        "id": "H36zLs8i8zOL"
      },
      "execution_count": 74,
      "outputs": []
    }
  ]
}